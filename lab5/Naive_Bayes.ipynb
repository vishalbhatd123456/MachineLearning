{
 "cells": [
  {
   "cell_type": "code",
   "execution_count": 4,
   "metadata": {},
   "outputs": [
    {
     "name": "stdout",
     "output_type": "stream",
     "text": [
      "14\n",
      "Training Set : \n",
      "      Outlook Temperature Humidity  Windy PlayTennis\n",
      "11  Overcast        Mild     High   True        Yes\n",
      "10     Sunny        Mild   Normal   True        Yes\n",
      "4      Rainy        Cool   Normal  False        Yes\n",
      "9      Rainy        Mild   Normal  False        Yes\n",
      "6   Overcast        Cool   Normal   True        Yes\n",
      "7      Sunny        Mild     High  False         No\n",
      "8      Sunny        Cool   Normal  False        Yes\n",
      "13     Rainy        Mild     High   True         No\n",
      "3      Rainy        Mild     High  False        Yes\n",
      "12  Overcast         Hot   Normal  False        Yes\n",
      "\n",
      "Test Data Set : \n",
      "     Outlook Temperature Humidity  Windy PlayTennis\n",
      "0     Sunny         Hot     High  False         No\n",
      "1     Sunny         Hot     High   True         No\n",
      "2  Overcast         Hot     High  False        Yes\n",
      "5     Rainy        Cool   Normal   True         No\n",
      "\n",
      "Actual Values :  ['No', 'No', 'Yes', 'No']\n",
      "Predicted :  ['Yes', 'Yes', 'Yes', 'Yes']\n",
      "Accuracy :  0.25\n"
     ]
    }
   ],
   "source": [
    "# -*- coding: utf-8 -*-\n",
    "\"\"\"\n",
    "Created on Sun Nov 24 18:09:26 2019\n",
    "\n",
    "@author: preda\n",
    "\"\"\"\n",
    "import pandas as pd\n",
    "#reading the dataset\n",
    "data=pd.DataFrame(data=pd.read_csv('Tennis.csv'))\n",
    "#calculating the total no.,no. of positive and no. of negative instances\n",
    "te=len(data)\n",
    "print(te)\n",
    "#np=len(data.loc[data[data.columns[-1]]=='Yes'])\n",
    "np= len(data.loc[data[data.columns[-1]]=='Yes'])\n",
    "nn=te-np\n",
    "#dividing the dataset into training and test\n",
    "training=data.sample(frac=0.75,replace=False)\n",
    "test=pd.concat([data, training, training]).drop_duplicates(keep=False)\n",
    "print('Training Set : \\n',training)\n",
    "print('\\nTest Data Set : \\n',test)\n",
    "#For every value of each attribute calculate the negative and positive probability\n",
    "prob={}\n",
    "for col in training.columns[:-1]:\n",
    "    prob[col]={}\n",
    "    vals=set(data[col])\n",
    "\n",
    "    for val in vals:\n",
    "        temp=training.loc[training[col]==val]\n",
    "       # print(temp)\n",
    "        pe=len(temp.loc[temp[temp.columns[-1]]=='Yes'])\n",
    "        ne=len(temp)-pe\n",
    "      #  print(pe,ne)\n",
    "        prob[col][val]=[pe/np,ne/nn]\n",
    "#Using Bayes Theorem to Predict the output\n",
    "prediction=[]\n",
    "right_prediction=0\n",
    "for i in range(len(test)):\n",
    "    row=test.iloc[i,:]\n",
    "    fpp=np/te\n",
    "    fpn=nn/te\n",
    "    for col in test.columns[:-1]:\n",
    "        fpp*=prob[col][row[col]][0]\n",
    "        fpn*=prob[col][row[col]][1]\n",
    "\n",
    "    if fpp>fpn:\n",
    "        prediction.append('Yes')\n",
    "    else:\n",
    "        prediction.append('No')\n",
    "    if prediction[-1]==row[-1]:\n",
    "        right_prediction+=1\n",
    "#output\n",
    "print('\\nActual Values : ',list(test[test.columns[-1]]))\n",
    "print('Predicted : ',prediction)\n",
    "print('Accuracy : ',right_prediction/len(test))\n"
   ]
  },
  {
   "cell_type": "code",
   "execution_count": null,
   "metadata": {},
   "outputs": [],
   "source": []
  }
 ],
 "metadata": {
  "kernelspec": {
   "display_name": "Python 3",
   "language": "python",
   "name": "python3"
  },
  "language_info": {
   "codemirror_mode": {
    "name": "ipython",
    "version": 3
   },
   "file_extension": ".py",
   "mimetype": "text/x-python",
   "name": "python",
   "nbconvert_exporter": "python",
   "pygments_lexer": "ipython3",
   "version": "3.7.3"
  }
 },
 "nbformat": 4,
 "nbformat_minor": 2
}
